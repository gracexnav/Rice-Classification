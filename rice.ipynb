{
 "cells": [
  {
   "cell_type": "code",
   "execution_count": 2,
   "metadata": {},
   "outputs": [],
   "source": [
    "import pandas as pd\n",
    "import numpy as np\n",
    "import matplotlib.pyplot as plt\n",
    "import cv2\n",
    "import os\n",
    "from sklearn.model_selection import train_test_split\n",
    "from sklearn.preprocessing import LabelEncoder\n",
    "from keras.utils import to_categorical\n",
    "from keras.models import Sequential\n",
    "from keras.layers import Conv2D, MaxPooling2D, Flatten, Dense, Dropout, BatchNormalization\n",
    "from sklearn.metrics import confusion_matrix, classification_report\n",
    "import tensorflow as tf"
   ]
  },
  {
   "cell_type": "code",
   "execution_count": 3,
   "metadata": {},
   "outputs": [],
   "source": [
    "IMG_SIZE = 50\n",
    "DATA_DIR = 'C:/Users/naveena/Downloads/archive (2)/Rice_Image_Dataset'\n",
    "RICE = ['Karacadag', 'Jasmine', 'Ipsala', 'Basmati', 'Arborio']"
   ]
  },
  {
   "cell_type": "code",
   "execution_count": 4,
   "metadata": {},
   "outputs": [],
   "source": [
    "label_encoder = LabelEncoder()"
   ]
  },
  {
   "cell_type": "code",
   "execution_count": 6,
   "metadata": {},
   "outputs": [],
   "source": [
    "def load_data():\n",
    "    images = []\n",
    "    labels = []\n",
    "\n",
    "    for type_label, rice_type in enumerate(RICE):\n",
    "        n = 0\n",
    "        rice_type_dir = os.path.join(DATA_DIR, str(rice_type))\n",
    "        if os.path.isdir(rice_type_dir):\n",
    "            for img_file in os.listdir(rice_type_dir):\n",
    "                img_path = os.path.join(rice_type_dir, str(img_file))\n",
    "                img_array = cv2.imread(img_path, cv2.IMREAD_GRAYSCALE)\n",
    "                img_resized = cv2.resize(img_array, (IMG_SIZE, IMG_SIZE))\n",
    "                images.append(img_resized)\n",
    "                labels.append(type_label)\n",
    "                n += 1\n",
    "                if n >= 13000:\n",
    "                  break  # Assigning label based on index\n",
    "        else:\n",
    "            print(f\"Directory not found for rice_type {rice_type}: {rice_type_dir}\")\n",
    "\n",
    "    return np.array(images), np.array(labels)\n",
    "\n",
    "images, labels = load_data()"
   ]
  },
  {
   "cell_type": "code",
   "execution_count": 7,
   "metadata": {},
   "outputs": [],
   "source": [
    "# Normalize images\n",
    "images = images / 255.0\n",
    "\n",
    "# Encode labels to categorical\n",
    "labels_categorical = to_categorical(labels, num_classes=len(RICE))"
   ]
  },
  {
   "cell_type": "code",
   "execution_count": 8,
   "metadata": {},
   "outputs": [
    {
     "name": "stdout",
     "output_type": "stream",
     "text": [
      "Distribution of rice_types:\n",
      "0    13000\n",
      "1    13000\n",
      "2    13000\n",
      "3    13000\n",
      "4    13000\n",
      "dtype: int64\n"
     ]
    }
   ],
   "source": [
    "print(\"Distribution of rice_types:\")\n",
    "print(pd.Series(labels).value_counts())"
   ]
  },
  {
   "cell_type": "code",
   "execution_count": 9,
   "metadata": {},
   "outputs": [],
   "source": [
    "X_train, X_test, y_train, y_test = train_test_split(images, labels_categorical, test_size=0.2, random_state=42)"
   ]
  },
  {
   "cell_type": "code",
   "execution_count": 10,
   "metadata": {},
   "outputs": [],
   "source": [
    "X_train = X_train.reshape(-1, IMG_SIZE, IMG_SIZE, 1)\n",
    "X_test = X_test.reshape(-1, IMG_SIZE, IMG_SIZE, 1)"
   ]
  },
  {
   "cell_type": "code",
   "execution_count": 11,
   "metadata": {},
   "outputs": [
    {
     "name": "stdout",
     "output_type": "stream",
     "text": [
      "Epoch 1/4\n",
      "1625/1625 [==============================] - 133s 81ms/step - loss: 0.2626 - accuracy: 0.9007 - val_loss: 0.1042 - val_accuracy: 0.9653\n",
      "Epoch 2/4\n",
      "1625/1625 [==============================] - 142s 87ms/step - loss: 0.1413 - accuracy: 0.9533 - val_loss: 0.0845 - val_accuracy: 0.9704\n",
      "Epoch 3/4\n",
      "1625/1625 [==============================] - 135s 83ms/step - loss: 0.1207 - accuracy: 0.9609 - val_loss: 0.0771 - val_accuracy: 0.9739\n",
      "Epoch 4/4\n",
      "1625/1625 [==============================] - 175s 108ms/step - loss: 0.1028 - accuracy: 0.9670 - val_loss: 0.0589 - val_accuracy: 0.9802\n"
     ]
    }
   ],
   "source": [
    "model = Sequential([\n",
    "    Conv2D(32, (3, 3), activation='relu', input_shape=(IMG_SIZE, IMG_SIZE, 1)),\n",
    "    MaxPooling2D((2, 2)),\n",
    "    Conv2D(64, (3, 3), activation='relu'),\n",
    "    MaxPooling2D((2, 2)),\n",
    "    Dropout(0.25),\n",
    "    Conv2D(128, (3, 3), activation='relu'),\n",
    "    MaxPooling2D((2, 2)),\n",
    "    Flatten(),\n",
    "    Dense(128, activation='relu'),\n",
    "    Dropout(0.5),\n",
    "    Dense(len(RICE), activation='softmax')  # Ensure the correct number of classes\n",
    "])\n",
    "\n",
    "model.compile(optimizer='adam', loss='categorical_crossentropy', metrics=['accuracy'])\n",
    "history = model.fit(X_train, y_train, epochs=4, validation_data=(X_test, y_test))"
   ]
  },
  {
   "cell_type": "code",
   "execution_count": 14,
   "metadata": {},
   "outputs": [
    {
     "name": "stdout",
     "output_type": "stream",
     "text": [
      "1/1 [==============================] - 0s 16ms/step\n",
      "Arborio\n"
     ]
    }
   ],
   "source": [
    "path = \"C:/Users/naveena/Downloads/Arborio - test.jpg\"\n",
    "img_array = cv2.imread(path, cv2.IMREAD_GRAYSCALE)\n",
    "img_resized = cv2.resize(img_array, (IMG_SIZE, IMG_SIZE))\n",
    "x = img_resized / 255.0\n",
    "x = np.expand_dims(x, axis=0)\n",
    "\n",
    "image_tensor = np.vstack([x])\n",
    "y_pred = model.predict(image_tensor)\n",
    "y_pred_classes = np.argmax(y_pred, axis=1)\n",
    "print(RICE[y_pred_classes[0]])"
   ]
  },
  {
   "cell_type": "code",
   "execution_count": 15,
   "metadata": {},
   "outputs": [],
   "source": [
    "TEST_DIR = 'C:/Users/naveena/Downloads/archive (2)/Test_data'"
   ]
  },
  {
   "cell_type": "code",
   "execution_count": 17,
   "metadata": {},
   "outputs": [],
   "source": [
    "def load_data():\n",
    "    images = []\n",
    "    labels = []\n",
    "\n",
    "    for type_label, rice_type in enumerate(RICE):\n",
    "        n = 0\n",
    "        rice_type_dir = os.path.join(TEST_DIR, str(rice_type))\n",
    "        if os.path.isdir(rice_type_dir):\n",
    "            for img_file in os.listdir(rice_type_dir):\n",
    "                img_path = os.path.join(rice_type_dir, str(img_file))\n",
    "                img_array = cv2.imread(img_path, cv2.IMREAD_GRAYSCALE)\n",
    "                img_resized = cv2.resize(img_array, (IMG_SIZE, IMG_SIZE))\n",
    "                images.append(img_resized)\n",
    "                labels.append(type_label)\n",
    "                n += 1\n",
    "                if n >= 2000:\n",
    "                  break  # Assigning label based on index\n",
    "        else:\n",
    "            print(f\"Directory not found for rice_type {rice_type}: {rice_type_dir}\")\n",
    "\n",
    "    return np.array(images), np.array(labels)\n",
    "\n",
    "images_test, labels_test = load_data()"
   ]
  },
  {
   "cell_type": "code",
   "execution_count": 18,
   "metadata": {},
   "outputs": [],
   "source": [
    "# Normalize images\n",
    "images_test = images_test / 255.0\n",
    "\n",
    "# Encode labels to categorical\n",
    "labels_test_categorical = to_categorical(labels_test, num_classes=len(RICE))"
   ]
  },
  {
   "cell_type": "code",
   "execution_count": 19,
   "metadata": {},
   "outputs": [
    {
     "name": "stdout",
     "output_type": "stream",
     "text": [
      "Distribution of rice_types:\n",
      "0    2000\n",
      "1    2000\n",
      "2    2000\n",
      "3    2000\n",
      "4    2000\n",
      "dtype: int64\n"
     ]
    }
   ],
   "source": [
    "print(\"Distribution of rice_types:\")\n",
    "print(pd.Series(labels_test).value_counts())"
   ]
  },
  {
   "cell_type": "code",
   "execution_count": 20,
   "metadata": {},
   "outputs": [
    {
     "name": "stdout",
     "output_type": "stream",
     "text": [
      "313/313 [==============================] - 2s 6ms/step\n"
     ]
    },
    {
     "data": {
      "image/png": "[encoded data removed]",
      "text/plain": [
       "<Figure size 1000x800 with 2 Axes>"
      ]
     },
     "metadata": {},
     "output_type": "display_data"
    },
    {
     "name": "stdout",
     "output_type": "stream",
     "text": [
      "              precision    recall  f1-score   support\n",
      "\n",
      "   Karacadag       0.96      0.98      0.97      2000\n",
      "     Jasmine       0.97      0.99      0.98      2000\n",
      "      Ipsala       1.00      1.00      1.00      2000\n",
      "     Basmati       0.99      0.97      0.98      2000\n",
      "     Arborio       0.98      0.95      0.97      2000\n",
      "\n",
      "    accuracy                           0.98     10000\n",
      "   macro avg       0.98      0.98      0.98     10000\n",
      "weighted avg       0.98      0.98      0.98     10000\n",
      "\n"
     ]
    }
   ],
   "source": [
    "import seaborn as sns\n",
    "# Model Evaluation\n",
    "y_pred = model.predict(images_test)\n",
    "y_pred_classes = np.argmax(y_pred, axis=1)\n",
    "y_true = np.argmax(labels_test_categorical, axis=1)\n",
    "\n",
    "# Confusion Matrix\n",
    "cm = confusion_matrix(y_true, y_pred_classes)\n",
    "cm_df = pd.DataFrame(cm, index=RICE, columns=RICE)\n",
    "\n",
    "plt.figure(figsize=(10, 8))\n",
    "sns.heatmap(cm_df, annot=True, fmt='d', cmap='Blues')\n",
    "plt.title('Confusion Matrix')\n",
    "plt.xlabel('Predicted Label')\n",
    "plt.ylabel('True Label')\n",
    "plt.show()\n",
    "\n",
    "# Classification Report\n",
    "report = classification_report(y_true, y_pred_classes, target_names=RICE)\n",
    "print(report)"
   ]
  }
 ],
 "metadata": {
  "kernelspec": {
   "display_name": "MachineLearning",
   "language": "python",
   "name": "python3"
  },
  "language_info": {
   "codemirror_mode": {
    "name": "ipython",
    "version": 3
   },
   "file_extension": ".py",
   "mimetype": "text/x-python",
   "name": "python",
   "nbconvert_exporter": "python",
   "pygments_lexer": "ipython3",
   "version": "3.10.0"
  }
 },
 "nbformat": 4,
 "nbformat_minor": 2
}
